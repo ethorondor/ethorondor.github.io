{
 "metadata": {
  "language_info": {
   "codemirror_mode": {
    "name": "ipython",
    "version": 3
   },
   "file_extension": ".py",
   "mimetype": "text/x-python",
   "name": "python",
   "nbconvert_exporter": "python",
   "pygments_lexer": "ipython3",
   "version": "3.8.5-final"
  },
  "orig_nbformat": 2,
  "kernelspec": {
   "name": "python38564bitbayeslogiccondab4d8225b150b4e36bd7aa762b5fb9ff1",
   "display_name": "Python 3.8.5 64-bit ('Bayeslogic': conda)"
  }
 },
 "nbformat": 4,
 "nbformat_minor": 2,
 "cells": [
  {
   "source": [
    "<center><h1>Note on Bayesian Sequential Probability Test</h1></center>\n",
    "\n",
    "<center>Haixi Li</center>"
   ],
   "cell_type": "markdown",
   "metadata": {}
  },
  {
   "source": [
    "## The Problem\n",
    "Consider a dynamic regression model in the following form:\n",
    "<a id='OLS'></a>\n",
    "\\begin{equation}\n",
    "y_{t} = x_{t}'\\beta_{t}+\\epsilon_{t}, \\tag{1}\n",
    "\\end{equation}\n",
    "where $x_{t}$ is a $k$ dimensional vector of regressors and $\\beta_{t}$ is a $k\\times 1$ vector of regression coefficients, and the error terms $\\epsilon_{t}$ is i.i.d $\\mathcal{N}(0,\\sigma^{2})$. Assume in the history $t \\in \\{ 1,...,n \\}$, the coefficients in Equation [(1)](#OLS) are constant and equal to $\\beta_{0}$. We want to monitor new data from $n+1$ onward to test if there is any structural break happening since. The null hypothesis is\n",
    "\\begin{equation}\n",
    "    \\beta_{t} = \\beta_{0} \\, \\forall t\n",
    "\\end{equation}\n",
    "against the alternative that from some unknown time $\\kappa>n$, the coefficients changes to $\\beta_{1} \\neq \\beta_{0}$. To be more precise, we assume the following statistical process:\n",
    "\\begin{eqnarray*}\n",
    "    H_{0}: y_{t} &=& x_{t}'\\beta_{0} + \\epsilon_{t} \\text{ for } t = 0,1,2,...,\\kappa-1,\\\\\n",
    "    H_{1}: y_{t} &=& x_{t}'\\beta_{1} + \\epsilon_{t} \\text{ for } t = \\kappa, \\kappa+1,...\n",
    "\\end{eqnarray*}\n",
    "Correspondingly we have the following hypotheses test, define stochastic process $\\zeta_{t}$:\n",
    "\\begin{eqnarray*}\n",
    "    H_{0}: \\varepsilon_{t} &=& \\epsilon_{t} \\text{ for } t = 0,1,2,...,\\kappa-1,\\\\\n",
    "    H_{1}: \\varepsilon_{t} &=& x_{t}'(\\beta_{1}-\\beta_{0}) + \\epsilon_{t} \\text{ for } t = \\kappa, \\kappa+1,...\n",
    "\\end{eqnarray*}\n",
    "To simplify the problem we assume the unconditional mean $E(\\varepsilon_{t})=\\mu$.\n",
    "So we arrived the following stochastic process:\n",
    "\\begin{eqnarray*}\n",
    "    H_{0}: \\zeta_{t} &=& \\epsilon_{t} \\text{ for } t = 0,1,2,...,\\kappa-1,\\\\\n",
    "    H_{1}: \\zeta_{t} &=& \\mu + \\epsilon_{t} \\text{ for } t = \\kappa, \\kappa+1,...\n",
    "\\end{eqnarray*}\n",
    "The reason to use unconditional mean is because $\\beta_{1}$ is unknown. The covariance $cov(x_{t},\\beta_{t})=0$ due to standard exogeneity assumption of regression model.\n",
    "In practice, practitioners estimate the model with historical data, and start monitoring the out of sample performance of the estimated model with newly arrived data. Let $\\hat{\\beta}^{n}$ denote the OLS estimates with historical data up to $t=n$. Under the null, the residuals can be approximated as\n",
    "\\begin{eqnarray*}\n",
    "    \\zeta_{t} &=&  \\epsilon_{t} - x_{t}'(\\hat{\\beta}^{n} - \\beta_{0})\\\\\n",
    "    &=& \\epsilon_{t}-x_{t}'((\\sum_{i=0}^{n}x_{i}'x_{i})^{-1}\\sum_{i=0}^{n}x_{i}'\\epsilon_{i})\\\\\n",
    "    &\\approx& \\epsilon_{t}.\n",
    "\\end{eqnarray*}\n",
    "The approximation is reasonable when $\\hat{\\beta}^{n}$ is estimated consistently. Under the alternative, the residuals can be approximated as\n",
    "\\begin{eqnarray*}\n",
    "    \\zeta_{t} &=&  \\epsilon_{t} - x_{t}'(\\hat{\\beta}^{n} - \\beta_{1})\\\\\n",
    "    &=& \\epsilon_{t} - x_{t}'(\\beta_{0} -\\beta_{1}+(\\sum_{i=0}^{n}x_{i}'x_{i})^{-1}\\sum_{i=0}^{n}x_{i}'\\epsilon_{i})\\\\\n",
    "    &\\approx& \\epsilon_{t} - x_{t}'(\\beta_{0}-\\beta_{1})\\\\\n",
    "    &\\approx& \\epsilon_{t} - \\mu.\n",
    "\\end{eqnarray*}"
   ],
   "cell_type": "markdown",
   "metadata": {}
  },
  {
   "cell_type": "code",
   "execution_count": null,
   "metadata": {},
   "outputs": [],
   "source": []
  }
 ]
}